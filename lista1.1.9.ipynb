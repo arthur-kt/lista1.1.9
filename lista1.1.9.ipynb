{
 "cells": [
  {
   "cell_type": "markdown",
   "id": "e9210089",
   "metadata": {},
   "source": [
    "## 9) Resolva uma equação do segundo grau."
   ]
  },
  {
   "cell_type": "code",
   "execution_count": 14,
   "id": "a2993806",
   "metadata": {},
   "outputs": [],
   "source": [
    "# Atribuição de variáveis\n",
    "\n",
    "a = 0\n",
    "b = 0\n",
    "c = 0\n",
    "x = 0\n",
    "y1 = 0\n",
    "y2= 0"
   ]
  },
  {
   "cell_type": "code",
   "execution_count": 15,
   "id": "5cf12aae",
   "metadata": {},
   "outputs": [
    {
     "name": "stdout",
     "output_type": "stream",
     "text": [
      "a: 1\n",
      "b: 2\n",
      "c: 0\n",
      "x: 2\n"
     ]
    }
   ],
   "source": [
    "# Entrada de dados\n",
    "\n",
    "a = float(input(\"a: \"))\n",
    "b = float(input(\"b: \"))\n",
    "c = float(input(\"c: \"))\n",
    "x = float(input(\"x: \"))"
   ]
  },
  {
   "cell_type": "code",
   "execution_count": 16,
   "id": "eb887805",
   "metadata": {},
   "outputs": [],
   "source": [
    "# Processamento de dados\n",
    "\n",
    "y1 = (-b + ((b**2) - 4*a*c)**(1/2)) / (2*a)\n",
    "y2 = (-b - ((b**2) - 4*a*c)**(1/2)) / (2*a)"
   ]
  },
  {
   "cell_type": "code",
   "execution_count": 17,
   "id": "99017829",
   "metadata": {},
   "outputs": [
    {
     "name": "stdout",
     "output_type": "stream",
     "text": [
      "y1 é igual a 0.0 e y2 é igual a -2.0\n"
     ]
    }
   ],
   "source": [
    "# Saída de dados\n",
    "\n",
    "print(f'y1 é igual a {y1} e y2 é igual a {y2}')"
   ]
  },
  {
   "cell_type": "code",
   "execution_count": null,
   "id": "d2737117",
   "metadata": {},
   "outputs": [],
   "source": []
  }
 ],
 "metadata": {
  "kernelspec": {
   "display_name": "Python 3 (ipykernel)",
   "language": "python",
   "name": "python3"
  },
  "language_info": {
   "codemirror_mode": {
    "name": "ipython",
    "version": 3
   },
   "file_extension": ".py",
   "mimetype": "text/x-python",
   "name": "python",
   "nbconvert_exporter": "python",
   "pygments_lexer": "ipython3",
   "version": "3.11.4"
  }
 },
 "nbformat": 4,
 "nbformat_minor": 5
}
